{
 "cells": [
  {
   "cell_type": "code",
   "execution_count": 1,
   "metadata": {},
   "outputs": [],
   "source": [
    "import tensorflow as tf\n",
    "import pandas as pd\n",
    "import numpy as np\n",
    "import os\n",
    "import re"
   ]
  },
  {
   "cell_type": "markdown",
   "metadata": {},
   "source": [
    "## Loading the Data"
   ]
  },
  {
   "cell_type": "code",
   "execution_count": 2,
   "metadata": {},
   "outputs": [],
   "source": [
    "#Directory for Dataset\n",
    "data_dir = os.getcwd()+'\\dataset'"
   ]
  },
  {
   "cell_type": "code",
   "execution_count": 3,
   "metadata": {},
   "outputs": [],
   "source": [
    "df = pd.read_csv(data_dir+'\\\\airline_sentiment_analysis.csv', encoding=\"ISO-8859-1\")"
   ]
  },
  {
   "cell_type": "code",
   "execution_count": 4,
   "metadata": {},
   "outputs": [
    {
     "data": {
      "text/html": [
       "<div>\n",
       "<style scoped>\n",
       "    .dataframe tbody tr th:only-of-type {\n",
       "        vertical-align: middle;\n",
       "    }\n",
       "\n",
       "    .dataframe tbody tr th {\n",
       "        vertical-align: top;\n",
       "    }\n",
       "\n",
       "    .dataframe thead th {\n",
       "        text-align: right;\n",
       "    }\n",
       "</style>\n",
       "<table border=\"1\" class=\"dataframe\">\n",
       "  <thead>\n",
       "    <tr style=\"text-align: right;\">\n",
       "      <th></th>\n",
       "      <th>Unnamed: 0</th>\n",
       "      <th>airline_sentiment</th>\n",
       "      <th>text</th>\n",
       "    </tr>\n",
       "  </thead>\n",
       "  <tbody>\n",
       "    <tr>\n",
       "      <th>0</th>\n",
       "      <td>1</td>\n",
       "      <td>positive</td>\n",
       "      <td>@VirginAmerica plus you've added commercials t...</td>\n",
       "    </tr>\n",
       "    <tr>\n",
       "      <th>1</th>\n",
       "      <td>3</td>\n",
       "      <td>negative</td>\n",
       "      <td>@VirginAmerica it's really aggressive to blast...</td>\n",
       "    </tr>\n",
       "  </tbody>\n",
       "</table>\n",
       "</div>"
      ],
      "text/plain": [
       "   Unnamed: 0 airline_sentiment  \\\n",
       "0           1          positive   \n",
       "1           3          negative   \n",
       "\n",
       "                                                text  \n",
       "0  @VirginAmerica plus you've added commercials t...  \n",
       "1  @VirginAmerica it's really aggressive to blast...  "
      ]
     },
     "execution_count": 4,
     "metadata": {},
     "output_type": "execute_result"
    }
   ],
   "source": [
    "df.head(2)"
   ]
  },
  {
   "cell_type": "code",
   "execution_count": 5,
   "metadata": {},
   "outputs": [],
   "source": [
    "import matplotlib.pyplot as plt"
   ]
  },
  {
   "cell_type": "code",
   "execution_count": 6,
   "metadata": {},
   "outputs": [
    {
     "data": {
      "image/png": "[encoded data removed]",
      "text/plain": [
       "<Figure size 432x288 with 1 Axes>"
      ]
     },
     "metadata": {},
     "output_type": "display_data"
    }
   ],
   "source": [
    "sentiments = ['Positive Sentiment', 'Negative Sentiment'] \n",
    "slices = [(df['airline_sentiment'] != \"positive\").sum(), (df['airline_sentiment'] == 'negative').sum()] \n",
    "colors = ['g', 'r'] \n",
    "plt.pie(slices, labels = sentiments, colors=colors, startangle=90, shadow = True,\n",
    "        explode = (0, 0.1), radius = 1.5, autopct = '%1.2f%%') \n",
    "plt.legend()\n",
    "plt.show() "
   ]
  },
  {
   "cell_type": "markdown",
   "metadata": {},
   "source": [
    "## Data Preprocessing"
   ]
  },
  {
   "cell_type": "code",
   "execution_count": 7,
   "metadata": {},
   "outputs": [],
   "source": [
    "from tensorflow.keras.preprocessing.text import Tokenizer\n",
    "from tensorflow.keras.preprocessing.sequence import pad_sequences"
   ]
  },
  {
   "cell_type": "code",
   "execution_count": 8,
   "metadata": {},
   "outputs": [],
   "source": [
    "class Process_Text:\n",
    "    \n",
    "    tokenizer = Tokenizer(num_words=1500, split=' ')\n",
    "        \n",
    "    def __init__(self,input_text):\n",
    "        self.input_text = input_text\n",
    "        \n",
    "    def process_text(self):               \n",
    "        self.input_text = np.vectorize(self.remove_unwanted)(self.input_text)\n",
    "        \n",
    "        self.tokenizer.fit_on_texts(self.input_text)\n",
    "                \n",
    "        #Tokenize the text\n",
    "        return(self.tokenize(self.input_text))\n",
    "        \n",
    "    def emoji(self,text):\n",
    "\n",
    "        # Smile -- :), : ), :-), (:, ( :, (-:, :') , :O\n",
    "        text = re.sub(r'(:\\s?\\)|:-\\)|\\(\\s?:|\\(-:|:\\'\\)|:O)', ' positiveemoji ', text)\n",
    "        # Laugh -- :D, : D, :-D, xD, x-D, XD, X-D\n",
    "        text = re.sub(r'(:\\s?D|:-D|x-?D|X-?D)', ' positiveemoji ', text)\n",
    "        # Love -- <3, :*\n",
    "        text = re.sub(r'(<3|:\\*)', ' positiveemoji ', text)\n",
    "        # Wink -- ;-), ;), ;-D, ;D, (;,  (-; , @-)\n",
    "        text = re.sub(r'(;-?\\)|;-?D|\\(-?;|@-\\))', ' positiveemoji ', text)\n",
    "        # Sad -- :-(, : (, :(, ):, )-:, :-/ , :-|\n",
    "        text = re.sub(r'(:\\s?\\(|:-\\(|\\)\\s?:|\\)-:|:-/|:-\\|)', ' negetiveemoji ', text)\n",
    "        # Cry -- :,(, :'(, :\"(\n",
    "        text = re.sub(r'(:,\\(|:\\'\\(|:\"\\()', ' negetiveemoji ', text)\n",
    "\n",
    "        return text            \n",
    "                    \n",
    "    def remove_unwanted(self,text):\n",
    "        text = text.lower()                                             # Lowercases the string\n",
    "        text = re.sub('@[^\\s]+', '', text)                              # Removes usernames\n",
    "        text = re.sub('((www\\.[^\\s]+)|(https?://[^\\s]+))', ' ', text)   # Remove URLs\n",
    "        text = re.sub(r\"\\d+\", \" \", str(text))                           # Removes all digits\n",
    "        text = re.sub('&quot;',\" \", text)                               # Remove (&quot;) \n",
    "        text = self.emoji(text)                                         # Replaces Emojis\n",
    "        text = re.sub(r\"\\b[a-zA-Z]\\b\", \"\", str(text))                   # Removes all single characters\n",
    "        text = re.sub(r\"[^\\w\\s]\", \" \", str(text))                       # Removes all punctuations\n",
    "        text = re.sub(r'(.)\\1+', r'\\1\\1', text)                         # Convert more than 2 letter repetitions to 2 letter\n",
    "        text = re.sub(r\"\\s+\", \" \", str(text))                           # Replaces double spaces with single space    \n",
    "        return text\n",
    "    \n",
    "    def tokenize(self,text):\n",
    "\n",
    "        try:\n",
    "            text = self.tokenizer.texts_to_sequences(text)\n",
    "            text = pad_sequences(text)\n",
    "\n",
    "        except:\n",
    "            pass \n",
    "        \n",
    "        finally:\n",
    "            return text\n",
    "        \n",
    "        "
   ]
  },
  {
   "cell_type": "code",
   "execution_count": 9,
   "metadata": {},
   "outputs": [],
   "source": [
    "pr  =  Process_Text(df['text'])\n",
    "\n",
    "#Processing the text\n",
    "X   = pr.process_text()\n",
    "\n",
    "#Encoding values for Labels (Positive:1 , Negative : 0)\n",
    "y = df['airline_sentiment'].replace({'positive':1,'negative':0})"
   ]
  },
  {
   "cell_type": "markdown",
   "metadata": {},
   "source": [
    "## Train Test Split"
   ]
  },
  {
   "cell_type": "code",
   "execution_count": 10,
   "metadata": {},
   "outputs": [],
   "source": [
    "from sklearn.model_selection import train_test_split "
   ]
  },
  {
   "cell_type": "code",
   "execution_count": 11,
   "metadata": {},
   "outputs": [],
   "source": [
    "X_train, X_test, y_train, y_test = train_test_split(X,y, test_size = 0.15, random_state = 42)"
   ]
  },
  {
   "cell_type": "markdown",
   "metadata": {},
   "source": [
    "# Model"
   ]
  },
  {
   "cell_type": "code",
   "execution_count": 12,
   "metadata": {},
   "outputs": [],
   "source": [
    "from tensorflow.keras.models import Sequential\n",
    "from tensorflow.keras.layers import Dense, Embedding, LSTM,Bidirectional, Dropout"
   ]
  },
  {
   "cell_type": "code",
   "execution_count": 13,
   "metadata": {},
   "outputs": [],
   "source": [
    "class Model:\n",
    "    \n",
    "    model   = None\n",
    "    max_len = None\n",
    "\n",
    "    def __init__(self,embed_dim,input_length,lstm_out):\n",
    "        \n",
    "        self.model = Sequential()\n",
    "        self.max_len = input_length\n",
    "        \n",
    "        #Embedding\n",
    "        self.model.add(Embedding(1500, embed_dim,input_length = input_length))\n",
    "\n",
    "        #LSTM\n",
    "        self.model.add(LSTM(lstm_out, dropout=0.2, recurrent_dropout=0.2))\n",
    "\n",
    "        #DENSE\n",
    "        self.model.add(Dense(2,activation='relu'))\n",
    "        \n",
    "        #DENSE\n",
    "        self.model.add(Dense(1,activation='sigmoid'))\n",
    "\n",
    "        self.model.compile(loss = 'binary_crossentropy', optimizer='adam',metrics = ['accuracy'])\n",
    "        \n",
    "    def train(self,epochs,X,y,validation_data,batch_size):     \n",
    "        self.model.fit(X, y,validation_data =validation_data,epochs = epochs, batch_size=batch_size)\n",
    "        \n",
    "    \n",
    "    def predict(self,test_text):        \n",
    "        return(np.round(self.model.predict_classes(test_text)))\n",
    "    \n",
    "    \n",
    "    def save_model(self):\n",
    "        self.model.save(\"LSTM\")\n",
    "              "
   ]
  },
  {
   "cell_type": "code",
   "execution_count": 14,
   "metadata": {},
   "outputs": [
    {
     "name": "stdout",
     "output_type": "stream",
     "text": [
      "Epoch 1/15\n",
      "307/307 [==============================] - 32s 104ms/step - loss: 0.3438 - accuracy: 0.8552 - val_loss: 0.2576 - val_accuracy: 0.9261\n",
      "Epoch 2/15\n",
      "307/307 [==============================] - 31s 101ms/step - loss: 0.2385 - accuracy: 0.9258 - val_loss: 0.2855 - val_accuracy: 0.8967\n",
      "Epoch 3/15\n",
      "307/307 [==============================] - 31s 101ms/step - loss: 0.1971 - accuracy: 0.9400 - val_loss: 0.2436 - val_accuracy: 0.9186\n",
      "Epoch 4/15\n",
      "307/307 [==============================] - 33s 108ms/step - loss: 0.1740 - accuracy: 0.9462 - val_loss: 0.2418 - val_accuracy: 0.9180\n",
      "Epoch 5/15\n",
      "307/307 [==============================] - 28s 90ms/step - loss: 0.1494 - accuracy: 0.9531 - val_loss: 0.2623 - val_accuracy: 0.9105\n",
      "Epoch 6/15\n",
      "307/307 [==============================] - 28s 91ms/step - loss: 0.1322 - accuracy: 0.9598 - val_loss: 0.2796 - val_accuracy: 0.9203\n",
      "Epoch 7/15\n",
      "307/307 [==============================] - 29s 95ms/step - loss: 0.1182 - accuracy: 0.9641 - val_loss: 0.3113 - val_accuracy: 0.9244\n",
      "Epoch 8/15\n",
      "307/307 [==============================] - 29s 95ms/step - loss: 0.1036 - accuracy: 0.9697 - val_loss: 0.2948 - val_accuracy: 0.9024\n",
      "Epoch 9/15\n",
      "307/307 [==============================] - 28s 91ms/step - loss: 0.0936 - accuracy: 0.9730 - val_loss: 0.3240 - val_accuracy: 0.9094\n",
      "Epoch 10/15\n",
      "307/307 [==============================] - 28s 92ms/step - loss: 0.0915 - accuracy: 0.9729 - val_loss: 0.3375 - val_accuracy: 0.9070\n",
      "Epoch 11/15\n",
      "307/307 [==============================] - 28s 91ms/step - loss: 0.0840 - accuracy: 0.9746 - val_loss: 0.4048 - val_accuracy: 0.9180\n",
      "Epoch 12/15\n",
      "307/307 [==============================] - 28s 91ms/step - loss: 0.0790 - accuracy: 0.9765 - val_loss: 0.4016 - val_accuracy: 0.9169\n",
      "Epoch 13/15\n",
      "307/307 [==============================] - 28s 92ms/step - loss: 0.0741 - accuracy: 0.9779 - val_loss: 0.3979 - val_accuracy: 0.9134\n",
      "Epoch 14/15\n",
      "307/307 [==============================] - 28s 91ms/step - loss: 0.0640 - accuracy: 0.9815 - val_loss: 0.4169 - val_accuracy: 0.9111\n",
      "Epoch 15/15\n",
      "307/307 [==============================] - 28s 91ms/step - loss: 0.0650 - accuracy: 0.9818 - val_loss: 0.3926 - val_accuracy: 0.9145\n"
     ]
    }
   ],
   "source": [
    "embed_dim = 128\n",
    "lstm_out = 196\n",
    "max_length  = max([len(x) for x in X])\n",
    "\n",
    "model = Model(embed_dim, max_length,lstm_out)\n",
    "model.train(X = X_train, y = y_train,validation_data = (X_test,y_test),epochs = 15, batch_size=32)"
   ]
  },
  {
   "cell_type": "markdown",
   "metadata": {},
   "source": [
    "## Saving the Model and Tokenizer"
   ]
  },
  {
   "cell_type": "code",
   "execution_count": 15,
   "metadata": {},
   "outputs": [
    {
     "name": "stdout",
     "output_type": "stream",
     "text": [
      "WARNING:tensorflow:From C:\\Users\\Ashwin\\anaconda3\\envs\\tensorflow_env\\lib\\site-packages\\tensorflow\\python\\training\\tracking\\tracking.py:111: Model.state_updates (from tensorflow.python.keras.engine.training) is deprecated and will be removed in a future version.\n",
      "Instructions for updating:\n",
      "This property should not be used in TensorFlow 2.0, as updates are applied automatically.\n",
      "WARNING:tensorflow:From C:\\Users\\Ashwin\\anaconda3\\envs\\tensorflow_env\\lib\\site-packages\\tensorflow\\python\\training\\tracking\\tracking.py:111: Layer.updates (from tensorflow.python.keras.engine.base_layer) is deprecated and will be removed in a future version.\n",
      "Instructions for updating:\n",
      "This property should not be used in TensorFlow 2.0, as updates are applied automatically.\n",
      "INFO:tensorflow:Assets written to: LSTM\\assets\n"
     ]
    }
   ],
   "source": [
    "model.save_model()"
   ]
  },
  {
   "cell_type": "code",
   "execution_count": 16,
   "metadata": {},
   "outputs": [],
   "source": [
    "import pickle\n",
    "\n",
    "# saving\n",
    "with open('tokenizer.pickle', 'wb') as handle:\n",
    "    pickle.dump(pr.tokenizer, handle, protocol=pickle.HIGHEST_PROTOCOL)\n",
    "\n",
    "# loading\n",
    "with open('tokenizer.pickle', 'rb') as handle:\n",
    "    tokenizer = pickle.load(handle)"
   ]
  },
  {
   "cell_type": "markdown",
   "metadata": {},
   "source": [
    "# Metrics"
   ]
  },
  {
   "cell_type": "code",
   "execution_count": 17,
   "metadata": {},
   "outputs": [],
   "source": [
    "from sklearn.metrics import confusion_matrix, classification_report"
   ]
  },
  {
   "cell_type": "code",
   "execution_count": 18,
   "metadata": {},
   "outputs": [
    {
     "name": "stdout",
     "output_type": "stream",
     "text": [
      "WARNING:tensorflow:From <ipython-input-13-d74da99cc956>:30: Sequential.predict_classes (from tensorflow.python.keras.engine.sequential) is deprecated and will be removed after 2021-01-01.\n",
      "Instructions for updating:\n",
      "Please use instead:* `np.argmax(model.predict(x), axis=-1)`,   if your model does multi-class classification   (e.g. if it uses a `softmax` last-layer activation).* `(model.predict(x) > 0.5).astype(\"int32\")`,   if your model does binary classification   (e.g. if it uses a `sigmoid` last-layer activation).\n"
     ]
    }
   ],
   "source": [
    "#X_test = pr.tokenize(X_test)\n",
    "preds  = model.predict(X_test)"
   ]
  },
  {
   "cell_type": "markdown",
   "metadata": {},
   "source": [
    "## Confusion Matrix"
   ]
  },
  {
   "cell_type": "code",
   "execution_count": 19,
   "metadata": {},
   "outputs": [],
   "source": [
    "con_matrix = confusion_matrix(y_test,preds)"
   ]
  },
  {
   "cell_type": "code",
   "execution_count": 20,
   "metadata": {},
   "outputs": [],
   "source": [
    "import seaborn as sns"
   ]
  },
  {
   "cell_type": "code",
   "execution_count": 21,
   "metadata": {},
   "outputs": [
    {
     "data": {
      "text/plain": [
       "<AxesSubplot:>"
      ]
     },
     "execution_count": 21,
     "metadata": {},
     "output_type": "execute_result"
    },
    {
     "data": {
      "image/png": "[encoded data removed]",
      "text/plain": [
       "<Figure size 432x288 with 2 Axes>"
      ]
     },
     "metadata": {
      "needs_background": "light"
     },
     "output_type": "display_data"
    }
   ],
   "source": [
    "sns.heatmap(con_matrix,annot=True)"
   ]
  },
  {
   "cell_type": "markdown",
   "metadata": {},
   "source": [
    "## Classification Report"
   ]
  },
  {
   "cell_type": "code",
   "execution_count": 22,
   "metadata": {},
   "outputs": [],
   "source": [
    "class_report = pd.DataFrame(classification_report(y_test,preds,output_dict=True)).transpose()"
   ]
  },
  {
   "cell_type": "code",
   "execution_count": 23,
   "metadata": {},
   "outputs": [
    {
     "data": {
      "text/html": [
       "<div>\n",
       "<style scoped>\n",
       "    .dataframe tbody tr th:only-of-type {\n",
       "        vertical-align: middle;\n",
       "    }\n",
       "\n",
       "    .dataframe tbody tr th {\n",
       "        vertical-align: top;\n",
       "    }\n",
       "\n",
       "    .dataframe thead th {\n",
       "        text-align: right;\n",
       "    }\n",
       "</style>\n",
       "<table border=\"1\" class=\"dataframe\">\n",
       "  <thead>\n",
       "    <tr style=\"text-align: right;\">\n",
       "      <th></th>\n",
       "      <th>precision</th>\n",
       "      <th>recall</th>\n",
       "      <th>f1-score</th>\n",
       "      <th>support</th>\n",
       "    </tr>\n",
       "  </thead>\n",
       "  <tbody>\n",
       "    <tr>\n",
       "      <th>0</th>\n",
       "      <td>0.951184</td>\n",
       "      <td>0.943060</td>\n",
       "      <td>0.947105</td>\n",
       "      <td>1405.00000</td>\n",
       "    </tr>\n",
       "    <tr>\n",
       "      <th>1</th>\n",
       "      <td>0.764012</td>\n",
       "      <td>0.792049</td>\n",
       "      <td>0.777778</td>\n",
       "      <td>327.00000</td>\n",
       "    </tr>\n",
       "    <tr>\n",
       "      <th>accuracy</th>\n",
       "      <td>0.914550</td>\n",
       "      <td>0.914550</td>\n",
       "      <td>0.914550</td>\n",
       "      <td>0.91455</td>\n",
       "    </tr>\n",
       "    <tr>\n",
       "      <th>macro avg</th>\n",
       "      <td>0.857598</td>\n",
       "      <td>0.867555</td>\n",
       "      <td>0.862441</td>\n",
       "      <td>1732.00000</td>\n",
       "    </tr>\n",
       "    <tr>\n",
       "      <th>weighted avg</th>\n",
       "      <td>0.915846</td>\n",
       "      <td>0.914550</td>\n",
       "      <td>0.915136</td>\n",
       "      <td>1732.00000</td>\n",
       "    </tr>\n",
       "  </tbody>\n",
       "</table>\n",
       "</div>"
      ],
      "text/plain": [
       "              precision    recall  f1-score     support\n",
       "0              0.951184  0.943060  0.947105  1405.00000\n",
       "1              0.764012  0.792049  0.777778   327.00000\n",
       "accuracy       0.914550  0.914550  0.914550     0.91455\n",
       "macro avg      0.857598  0.867555  0.862441  1732.00000\n",
       "weighted avg   0.915846  0.914550  0.915136  1732.00000"
      ]
     },
     "execution_count": 23,
     "metadata": {},
     "output_type": "execute_result"
    }
   ],
   "source": [
    "class_report"
   ]
  },
  {
   "cell_type": "markdown",
   "metadata": {},
   "source": [
    "## Testing"
   ]
  },
  {
   "cell_type": "code",
   "execution_count": 24,
   "metadata": {},
   "outputs": [],
   "source": [
    "test_text = ['I hate this movie']\n",
    "#test_text = pr.tokenize(test_text) \n",
    "\n",
    "test_text  = tokenizer.texts_to_sequences(test_text)\n",
    "test_text =  pad_sequences(test_text,maxlen=49)"
   ]
  },
  {
   "cell_type": "code",
   "execution_count": 25,
   "metadata": {},
   "outputs": [
    {
     "data": {
      "text/plain": [
       "'Negative'"
      ]
     },
     "execution_count": 25,
     "metadata": {},
     "output_type": "execute_result"
    }
   ],
   "source": [
    "preds_dict = {0:\"Negative\",1:\"Positive\"}\n",
    "\n",
    "preds_dict[model.predict(test_text)[0][0]]"
   ]
  }
 ],
 "metadata": {
  "kernelspec": {
   "display_name": "Python 3",
   "language": "python",
   "name": "python3"
  },
  "language_info": {
   "codemirror_mode": {
    "name": "ipython",
    "version": 3
   },
   "file_extension": ".py",
   "mimetype": "text/x-python",
   "name": "python",
   "nbconvert_exporter": "python",
   "pygments_lexer": "ipython3",
   "version": "3.6.12"
  }
 },
 "nbformat": 4,
 "nbformat_minor": 4
}
