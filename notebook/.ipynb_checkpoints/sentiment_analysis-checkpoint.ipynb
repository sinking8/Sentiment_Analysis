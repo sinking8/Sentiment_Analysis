{
 "cells": [
  {
   "cell_type": "code",
   "execution_count": 1,
   "metadata": {},
   "outputs": [],
   "source": [
    "import tensorflow as tf\n",
    "import pandas as pd\n",
    "import numpy as np\n",
    "import os\n",
    "import re"
   ]
  },
  {
   "cell_type": "markdown",
   "metadata": {},
   "source": [
    "## Loading the Data"
   ]
  },
  {
   "cell_type": "code",
   "execution_count": 2,
   "metadata": {},
   "outputs": [],
   "source": [
    "#Directory for Dataset\n",
    "data_dir = os.getcwd()+'\\dataset'"
   ]
  },
  {
   "cell_type": "code",
   "execution_count": 3,
   "metadata": {},
   "outputs": [],
   "source": [
    "df = pd.read_csv(data_dir+'\\\\airline_sentiment_analysis.csv', encoding=\"ISO-8859-1\")"
   ]
  },
  {
   "cell_type": "code",
   "execution_count": 4,
   "metadata": {},
   "outputs": [
    {
     "data": {
      "text/html": [
       "<div>\n",
       "<style scoped>\n",
       "    .dataframe tbody tr th:only-of-type {\n",
       "        vertical-align: middle;\n",
       "    }\n",
       "\n",
       "    .dataframe tbody tr th {\n",
       "        vertical-align: top;\n",
       "    }\n",
       "\n",
       "    .dataframe thead th {\n",
       "        text-align: right;\n",
       "    }\n",
       "</style>\n",
       "<table border=\"1\" class=\"dataframe\">\n",
       "  <thead>\n",
       "    <tr style=\"text-align: right;\">\n",
       "      <th></th>\n",
       "      <th>Unnamed: 0</th>\n",
       "      <th>airline_sentiment</th>\n",
       "      <th>text</th>\n",
       "    </tr>\n",
       "  </thead>\n",
       "  <tbody>\n",
       "    <tr>\n",
       "      <th>0</th>\n",
       "      <td>1</td>\n",
       "      <td>positive</td>\n",
       "      <td>@VirginAmerica plus you've added commercials t...</td>\n",
       "    </tr>\n",
       "    <tr>\n",
       "      <th>1</th>\n",
       "      <td>3</td>\n",
       "      <td>negative</td>\n",
       "      <td>@VirginAmerica it's really aggressive to blast...</td>\n",
       "    </tr>\n",
       "  </tbody>\n",
       "</table>\n",
       "</div>"
      ],
      "text/plain": [
       "   Unnamed: 0 airline_sentiment  \\\n",
       "0           1          positive   \n",
       "1           3          negative   \n",
       "\n",
       "                                                text  \n",
       "0  @VirginAmerica plus you've added commercials t...  \n",
       "1  @VirginAmerica it's really aggressive to blast...  "
      ]
     },
     "execution_count": 4,
     "metadata": {},
     "output_type": "execute_result"
    }
   ],
   "source": [
    "df.head(2)"
   ]
  },
  {
   "cell_type": "code",
   "execution_count": 5,
   "metadata": {},
   "outputs": [],
   "source": [
    "import matplotlib.pyplot as plt"
   ]
  },
  {
   "cell_type": "code",
   "execution_count": 6,
   "metadata": {},
   "outputs": [
    {
     "data": {
      "image/png": "[encoded data removed]",
      "text/plain": [
       "<Figure size 432x288 with 1 Axes>"
      ]
     },
     "metadata": {},
     "output_type": "display_data"
    }
   ],
   "source": [
    "sentiments = ['Positive Sentiment', 'Negative Sentiment'] \n",
    "slices = [(df['airline_sentiment'] != \"positive\").sum(), (df['airline_sentiment'] == 'negative').sum()] \n",
    "colors = ['g', 'r'] \n",
    "plt.pie(slices, labels = sentiments, colors=colors, startangle=90, shadow = True,\n",
    "        explode = (0, 0.1), radius = 1.5, autopct = '%1.2f%%') \n",
    "plt.legend()\n",
    "plt.show() "
   ]
  },
  {
   "cell_type": "markdown",
   "metadata": {},
   "source": [
    "## Data Preprocessing"
   ]
  },
  {
   "cell_type": "code",
   "execution_count": 7,
   "metadata": {},
   "outputs": [],
   "source": [
    "from tensorflow.keras.preprocessing.text import Tokenizer\n",
    "from tensorflow.keras.preprocessing.sequence import pad_sequences"
   ]
  },
  {
   "cell_type": "code",
   "execution_count": 8,
   "metadata": {},
   "outputs": [],
   "source": [
    "class Process_Text:\n",
    "    \n",
    "    tokenizer = Tokenizer(num_words=1500, split=' ')\n",
    "        \n",
    "    def __init__(self,input_text):\n",
    "        self.input_text = input_text\n",
    "        \n",
    "    def process_text(self):               \n",
    "        self.input_text = np.vectorize(self.remove_unwanted)(self.input_text)\n",
    "        \n",
    "        self.tokenizer.fit_on_texts(self.input_text)\n",
    "                \n",
    "        #Tokenize the text\n",
    "        return(self.tokenize(self.input_text))\n",
    "        \n",
    "    def emoji(self,text):\n",
    "\n",
    "        # Smile -- :), : ), :-), (:, ( :, (-:, :') , :O\n",
    "        text = re.sub(r'(:\\s?\\)|:-\\)|\\(\\s?:|\\(-:|:\\'\\)|:O)', ' positiveemoji ', text)\n",
    "        # Laugh -- :D, : D, :-D, xD, x-D, XD, X-D\n",
    "        text = re.sub(r'(:\\s?D|:-D|x-?D|X-?D)', ' positiveemoji ', text)\n",
    "        # Love -- <3, :*\n",
    "        text = re.sub(r'(<3|:\\*)', ' positiveemoji ', text)\n",
    "        # Wink -- ;-), ;), ;-D, ;D, (;,  (-; , @-)\n",
    "        text = re.sub(r'(;-?\\)|;-?D|\\(-?;|@-\\))', ' positiveemoji ', text)\n",
    "        # Sad -- :-(, : (, :(, ):, )-:, :-/ , :-|\n",
    "        text = re.sub(r'(:\\s?\\(|:-\\(|\\)\\s?:|\\)-:|:-/|:-\\|)', ' negetiveemoji ', text)\n",
    "        # Cry -- :,(, :'(, :\"(\n",
    "        text = re.sub(r'(:,\\(|:\\'\\(|:\"\\()', ' negetiveemoji ', text)\n",
    "\n",
    "        return text            \n",
    "                    \n",
    "    def remove_unwanted(self,text):\n",
    "        text = text.lower()                                             # Lowercases the string\n",
    "        text = re.sub('@[^\\s]+', '', text)                              # Removes usernames\n",
    "        text = re.sub('((www\\.[^\\s]+)|(https?://[^\\s]+))', ' ', text)   # Remove URLs\n",
    "        text = re.sub(r\"\\d+\", \" \", str(text))                           # Removes all digits\n",
    "        text = re.sub('&quot;',\" \", text)                               # Remove (&quot;) \n",
    "        text = self.emoji(text)                                         # Replaces Emojis\n",
    "        text = re.sub(r\"\\b[a-zA-Z]\\b\", \"\", str(text))                   # Removes all single characters\n",
    "        text = re.sub(r\"[^\\w\\s]\", \" \", str(text))                       # Removes all punctuations\n",
    "        text = re.sub(r'(.)\\1+', r'\\1\\1', text)                         # Convert more than 2 letter repetitions to 2 letter\n",
    "        text = re.sub(r\"\\s+\", \" \", str(text))                           # Replaces double spaces with single space    \n",
    "        return text\n",
    "    \n",
    "    def tokenize(self,text):\n",
    "\n",
    "        try:\n",
    "            text = self.tokenizer.texts_to_sequences(text)\n",
    "            text = pad_sequences(text)\n",
    "\n",
    "        except:\n",
    "            pass \n",
    "        \n",
    "        finally:\n",
    "            return text\n",
    "        \n",
    "        "
   ]
  },
  {
   "cell_type": "code",
   "execution_count": 9,
   "metadata": {},
   "outputs": [],
   "source": [
    "pr  =  Process_Text(df['text'])\n",
    "\n",
    "#Processing the text\n",
    "X   = pr.process_text()\n",
    "\n",
    "#Encoding values for Labels (Positive:1 , Negative : 0)\n",
    "y = df['airline_sentiment'].replace({'positive':1,'negative':0})"
   ]
  },
  {
   "cell_type": "markdown",
   "metadata": {},
   "source": [
    "## Train Test Split"
   ]
  },
  {
   "cell_type": "code",
   "execution_count": 10,
   "metadata": {},
   "outputs": [],
   "source": [
    "from sklearn.model_selection import train_test_split "
   ]
  },
  {
   "cell_type": "code",
   "execution_count": 11,
   "metadata": {},
   "outputs": [],
   "source": [
    "X_train, X_test, y_train, y_test = train_test_split(X,y, test_size = 0.15, random_state = 42)"
   ]
  },
  {
   "cell_type": "markdown",
   "metadata": {},
   "source": [
    "# Model"
   ]
  },
  {
   "cell_type": "code",
   "execution_count": 12,
   "metadata": {},
   "outputs": [],
   "source": [
    "from tensorflow.keras.models import Sequential\n",
    "from tensorflow.keras.layers import Dense, Embedding, LSTM,Bidirectional, Dropout"
   ]
  },
  {
   "cell_type": "code",
   "execution_count": 13,
   "metadata": {},
   "outputs": [],
   "source": [
    "class Model:\n",
    "    \n",
    "    model   = None\n",
    "    max_len = None\n",
    "\n",
    "    def __init__(self,embed_dim,input_length,lstm_out):\n",
    "        \n",
    "        self.model = Sequential()\n",
    "        self.max_len = input_length\n",
    "        \n",
    "        #Embedding\n",
    "        self.model.add(Embedding(1500, embed_dim,input_length = input_length))\n",
    "\n",
    "        #LSTM\n",
    "        self.model.add(LSTM(lstm_out, dropout=0.2, recurrent_dropout=0.2))\n",
    "\n",
    "        #DENSE\n",
    "        self.model.add(Dense(2,activation='relu'))\n",
    "        \n",
    "        #DENSE\n",
    "        self.model.add(Dense(1,activation='sigmoid'))\n",
    "\n",
    "        self.model.compile(loss = 'binary_crossentropy', optimizer='adam',metrics = ['accuracy'])\n",
    "        \n",
    "    def train(self,epochs,X,y,validation_data,batch_size):     \n",
    "        self.model.fit(X, y,validation_data =validation_data,epochs = epochs, batch_size=batch_size)\n",
    "        \n",
    "    \n",
    "    def predict(self,test_text):        \n",
    "        return(np.round(self.model.predict_classes(test_text)))\n",
    "    \n",
    "    \n",
    "    def save_model(self):\n",
    "        self.model.save(\"LSTM\")\n",
    "              "
   ]
  },
  {
   "cell_type": "code",
   "execution_count": null,
   "metadata": {},
   "outputs": [
    {
     "name": "stdout",
     "output_type": "stream",
     "text": [
      "Epoch 1/10\n",
      "307/307 [==============================] - 29s 96ms/step - loss: 0.3578 - accuracy: 0.8520 - val_loss: 0.2641 - val_accuracy: 0.9307\n",
      "Epoch 2/10\n",
      "307/307 [==============================] - 28s 92ms/step - loss: 0.2386 - accuracy: 0.9263 - val_loss: 0.2500 - val_accuracy: 0.9284\n",
      "Epoch 3/10\n",
      " 13/307 [>.............................] - ETA: 23s - loss: 0.1969 - accuracy: 0.9591"
     ]
    }
   ],
   "source": [
    "embed_dim = 128\n",
    "lstm_out = 196\n",
    "max_length  = max([len(x) for x in X])\n",
    "\n",
    "model = Model(embed_dim, max_length,lstm_out)\n",
    "model.train(X = X_train, y = y_train,validation_data = (X_test,y_test),epochs = 10, batch_size=32)"
   ]
  },
  {
   "cell_type": "markdown",
   "metadata": {},
   "source": [
    "## Saving the Model and Tokenizer"
   ]
  },
  {
   "cell_type": "code",
   "execution_count": null,
   "metadata": {},
   "outputs": [],
   "source": [
    "model.save_model()"
   ]
  },
  {
   "cell_type": "code",
   "execution_count": null,
   "metadata": {},
   "outputs": [],
   "source": [
    "import pickle\n",
    "\n",
    "# saving\n",
    "with open('tokenizer.pickle', 'wb') as handle:\n",
    "    pickle.dump(model.tokenizer, handle, protocol=pickle.HIGHEST_PROTOCOL)\n",
    "\n",
    "# loading\n",
    "with open('tokenizer.pickle', 'rb') as handle:\n",
    "    tokenizer = pickle.load(handle)"
   ]
  },
  {
   "cell_type": "markdown",
   "metadata": {},
   "source": [
    "# Metrics"
   ]
  },
  {
   "cell_type": "code",
   "execution_count": null,
   "metadata": {},
   "outputs": [],
   "source": [
    "from sklearn.metrics import confusion_matrix, classification_report"
   ]
  },
  {
   "cell_type": "code",
   "execution_count": null,
   "metadata": {},
   "outputs": [],
   "source": [
    "#X_test = pr.tokenize(X_test)\n",
    "preds  = model.predict(X_test)"
   ]
  },
  {
   "cell_type": "markdown",
   "metadata": {},
   "source": [
    "## Confusion Matrix"
   ]
  },
  {
   "cell_type": "code",
   "execution_count": null,
   "metadata": {},
   "outputs": [],
   "source": [
    "con_matrix = confusion_matrix(y_test,preds)"
   ]
  },
  {
   "cell_type": "code",
   "execution_count": null,
   "metadata": {},
   "outputs": [],
   "source": [
    "import seaborn as sns"
   ]
  },
  {
   "cell_type": "code",
   "execution_count": null,
   "metadata": {},
   "outputs": [],
   "source": [
    "sns.heatmap(con_matrix,annot=True)"
   ]
  },
  {
   "cell_type": "markdown",
   "metadata": {},
   "source": [
    "## Classification Report"
   ]
  },
  {
   "cell_type": "code",
   "execution_count": null,
   "metadata": {},
   "outputs": [],
   "source": [
    "classification_report(y_test,preds)"
   ]
  },
  {
   "cell_type": "markdown",
   "metadata": {},
   "source": [
    "## Testing"
   ]
  },
  {
   "cell_type": "code",
   "execution_count": null,
   "metadata": {},
   "outputs": [],
   "source": [
    "test_text = ['The movie was bad ']\n",
    "test_text = pr.tokenize(test_text) "
   ]
  },
  {
   "cell_type": "code",
   "execution_count": null,
   "metadata": {},
   "outputs": [],
   "source": [
    "preds_dict = {0:\"Negative\",1:\"Positive\"}\n",
    "\n",
    "preds_dict[model.predict(test_text)[0][0]]"
   ]
  }
 ],
 "metadata": {
  "kernelspec": {
   "display_name": "Python 3",
   "language": "python",
   "name": "python3"
  },
  "language_info": {
   "codemirror_mode": {
    "name": "ipython",
    "version": 3
   },
   "file_extension": ".py",
   "mimetype": "text/x-python",
   "name": "python",
   "nbconvert_exporter": "python",
   "pygments_lexer": "ipython3",
   "version": "3.6.12"
  }
 },
 "nbformat": 4,
 "nbformat_minor": 4
}
